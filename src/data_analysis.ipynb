{
 "cells": [
  {
   "cell_type": "markdown",
   "metadata": {},
   "source": [
    "## Data Analysis"
   ]
  },
  {
   "cell_type": "code",
   "execution_count": null,
   "metadata": {},
   "outputs": [],
   "source": [
    "import pandas as pd\n",
    "from matplotlib import pyplot as plt\n",
    "from data import get_data, extract_date_data\n",
    "from model import load_model_data\n",
    "from utils import get_path\n",
    "plt.style.use('ggplot')"
   ]
  },
  {
   "cell_type": "code",
   "execution_count": null,
   "metadata": {},
   "outputs": [],
   "source": [
    "X, y = get_data(include_date = True)\n",
    "df = X.copy()\n",
    "X.drop(columns = ['date'], inplace = True)\n",
    "df['total'] = y.copy()\n",
    "df.head()"
   ]
  },
  {
   "cell_type": "code",
   "execution_count": null,
   "metadata": {
    "scrolled": false
   },
   "outputs": [],
   "source": [
    "f = plt.figure(figsize = (14, 11))\n",
    "plt.matshow(df.corr(), fignum = f.number, cmap = 'coolwarm', vmin = -1, vmax = 1)\n",
    "plt.xticks(range(df.shape[1]), df.columns, fontsize=14, rotation=65)\n",
    "plt.yticks(range(df.shape[1]), df.columns, fontsize=14)\n",
    "cb = plt.colorbar()\n",
    "cb.ax.tick_params(labelsize=14)"
   ]
  },
  {
   "cell_type": "code",
   "execution_count": null,
   "metadata": {
    "scrolled": false
   },
   "outputs": [],
   "source": [
    "xticks = list(range(1, len(df.index), 5))\n",
    "ax = df.total.plot(figsize = (15, 7), title = 'Total BSRT demand', rot = 45, xticks = xticks, color = 'green')\n",
    "ax.set_xticklabels(df.date[xticks])\n",
    "plt.show()"
   ]
  },
  {
   "cell_type": "markdown",
   "metadata": {},
   "source": [
    "## Using the model to impute data"
   ]
  },
  {
   "cell_type": "code",
   "execution_count": null,
   "metadata": {},
   "outputs": [],
   "source": [
    "weather_df = pd.read_csv(get_path('data') / 'weather_data.tsv', sep = '\\t')\n",
    "weather_df.head()"
   ]
  },
  {
   "cell_type": "code",
   "execution_count": null,
   "metadata": {},
   "outputs": [],
   "source": [
    "from datetime import datetime\n",
    "dates = weather_df['date'].map(lambda x: datetime.strptime(x, '%Y-%m-%d'))\n",
    "date_df = extract_date_data(dates)\n",
    "date_df.head()"
   ]
  },
  {
   "cell_type": "code",
   "execution_count": null,
   "metadata": {
    "scrolled": true
   },
   "outputs": [],
   "source": [
    "pred_df = pd.concat([date_df, weather_df], axis = 1)\n",
    "pred_df.head()"
   ]
  },
  {
   "cell_type": "code",
   "execution_count": null,
   "metadata": {
    "scrolled": true
   },
   "outputs": [],
   "source": [
    "from utils import month, day_of_week, precip_type\n",
    "pred_df['month'] = pred_df['month'].map(month)\n",
    "pred_df['day_of_week'] = pred_df['day_of_week'].map(day_of_week)\n",
    "pred_df['precip_type'] = pred_df['precip_type'].map(precip_type)\n",
    "pred_df.head()"
   ]
  },
  {
   "cell_type": "markdown",
   "metadata": {},
   "source": [
    "### Imputing with Gaussian process"
   ]
  },
  {
   "cell_type": "code",
   "execution_count": null,
   "metadata": {},
   "outputs": [],
   "source": [
    "gaussian_process = load_model_data('gaussian_process')['model']\n",
    "gaussian_process"
   ]
  },
  {
   "cell_type": "code",
   "execution_count": null,
   "metadata": {
    "scrolled": false
   },
   "outputs": [],
   "source": [
    "gaussian_df = pred_df.copy()\n",
    "means, stds = gaussian_process.predict(gaussian_df.drop(columns = ['date']), return_std = True)\n",
    "gaussian_df['lower_bound'] = means - 1.96 * stds\n",
    "gaussian_df['upper_bound'] = means + 1.96 * stds\n",
    "gaussian_df.head()"
   ]
  },
  {
   "cell_type": "code",
   "execution_count": null,
   "metadata": {
    "scrolled": true
   },
   "outputs": [],
   "source": [
    "fig, ax = plt.subplots(figsize = (40, 13))\n",
    "plt.fill_between(gaussian_df.date, gaussian_df.lower_bound, \n",
    "                 gaussian_df.upper_bound, figure = fig, color = 'purple')\n",
    "plt.scatter(df.date, df.total, color = 'green')\n",
    "plt.xticks(range(1, len(gaussian_df.index), 25), \n",
    "           gaussian_df.date[list(range(1, len(gaussian_df.index), 25))], \n",
    "           rotation = 45)\n",
    "plt.show()"
   ]
  },
  {
   "cell_type": "markdown",
   "metadata": {},
   "source": [
    "### Imputing with random forest"
   ]
  },
  {
   "cell_type": "code",
   "execution_count": null,
   "metadata": {},
   "outputs": [],
   "source": [
    "random_forest = load_model_data('random_forest')['model']\n",
    "random_forest"
   ]
  },
  {
   "cell_type": "code",
   "execution_count": null,
   "metadata": {
    "scrolled": false
   },
   "outputs": [],
   "source": [
    "random_df = pred_df.copy()\n",
    "random_df['predictions'] = random_forest.predict(random_df.drop(columns = ['date']))\n",
    "random_df.head()"
   ]
  },
  {
   "cell_type": "code",
   "execution_count": null,
   "metadata": {
    "scrolled": true
   },
   "outputs": [],
   "source": [
    "fig, ax = plt.subplots(figsize = (40, 13))\n",
    "plt.plot(random_df.date, random_df.predictions,\n",
    "         figure = fig, color = 'purple')\n",
    "plt.scatter(df.date, df.total, color = 'green')\n",
    "plt.xticks(range(1, len(random_df.index), 25), \n",
    "           random_df.date[list(range(1, len(random_df.index), 25))], \n",
    "           rotation = 45)\n",
    "plt.title(f'Imputing total demand with {type(random_forest).__name__}', fontsize = 30)\n",
    "plt.show()"
   ]
  },
  {
   "cell_type": "markdown",
   "metadata": {},
   "source": [
    "## Visualising model performance"
   ]
  },
  {
   "cell_type": "code",
   "execution_count": null,
   "metadata": {},
   "outputs": [],
   "source": [
    "def earlier_than(date1: str, date2: str):\n",
    "    from datetime import datetime\n",
    "    date1, date2 = datetime.strptime(date1, '%Y-%m-%d'), datetime.strptime(date2, '%Y-%m-%d')\n",
    "    return date1 < date2"
   ]
  },
  {
   "cell_type": "code",
   "execution_count": null,
   "metadata": {},
   "outputs": [],
   "source": [
    "def viz_model(model_fname: str = 'random_forest', cutoff_date = '2019-09-01'):\n",
    "    train_idxs = [idx for idx, date in zip(df.index, df.date) if earlier_than(date, cutoff_date)]\n",
    "    \n",
    "    X_train, X_val = X.iloc[train_idxs, :], X.iloc[list(set(df.index) - set(train_idxs)), :]\n",
    "    y_train, y_val = y[train_idxs], y[list(set(df.index) - set(train_idxs))]\n",
    "    idxs = sorted(X_val.index)\n",
    "\n",
    "    model = load_model_data(model_fname)['model'].fit(X_train, y_train)\n",
    "    \n",
    "    fig, ax = plt.subplots(figsize = (15, 7))\n",
    "    plt.plot(df.date[idxs], df.total[idxs], label = 'true', color = 'grey')\n",
    "    plt.plot(df.date[idxs], model.predict(X_val), label = 'prediction', color = 'blue')\n",
    "    plt.legend(fontsize = 17)\n",
    "    plt.xticks(rotation = 60)\n",
    "    plt.title(f'Predictions - {type(model).__name__}', fontsize = 18)  \n",
    "    \n",
    "    plt.show()"
   ]
  },
  {
   "cell_type": "code",
   "execution_count": null,
   "metadata": {},
   "outputs": [],
   "source": [
    "viz_model('random_forest', cutoff_date = '2019-09-01')"
   ]
  },
  {
   "cell_type": "code",
   "execution_count": null,
   "metadata": {},
   "outputs": [],
   "source": [
    "viz_model('gaussian_process', cutoff_date = '2019-09-01')"
   ]
  },
  {
   "cell_type": "code",
   "execution_count": null,
   "metadata": {},
   "outputs": [],
   "source": []
  }
 ],
 "metadata": {
  "kernelspec": {
   "display_name": "Python 3",
   "language": "python",
   "name": "python3"
  },
  "language_info": {
   "codemirror_mode": {
    "name": "ipython",
    "version": 3
   },
   "file_extension": ".py",
   "mimetype": "text/x-python",
   "name": "python",
   "nbconvert_exporter": "python",
   "pygments_lexer": "ipython3",
   "version": "3.8.0"
  }
 },
 "nbformat": 4,
 "nbformat_minor": 2
}
